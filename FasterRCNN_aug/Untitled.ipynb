{
 "cells": [
  {
   "cell_type": "code",
   "execution_count": 1,
   "id": "81633cd2-9c5e-4579-9bbe-382242ae982b",
   "metadata": {},
   "outputs": [],
   "source": [
    "import torch"
   ]
  },
  {
   "cell_type": "code",
   "execution_count": 2,
   "id": "5dc34653-0184-452f-9f20-1a6cac5bd91c",
   "metadata": {},
   "outputs": [],
   "source": [
    "metric_info_list = ['95', '75', '50', '25', '00']"
   ]
  },
  {
   "cell_type": "code",
   "execution_count": 3,
   "id": "68ea03b7-9b2b-41e5-92af-ffc4e1788342",
   "metadata": {},
   "outputs": [
    {
     "name": "stdout",
     "output_type": "stream",
     "text": [
      "--------95--------\n",
      "best_mAP50_95 : 100.00%\n",
      "best_mAR50_95 : 18.06%\n",
      "best_mFS50_95 : 29.40%\n",
      "--------75--------\n",
      "best_mAP50_75 : 55.73%\n",
      "best_mAR50_75 : 53.06%\n",
      "best_mFS50_75 : 54.36%\n",
      "--------50--------\n",
      "best_mAP50_50 : 46.13%\n",
      "best_mAR50_50 : 67.45%\n",
      "best_mFS50_50 : 54.79%\n",
      "--------25--------\n",
      "best_mAP50_25 : 40.72%\n",
      "best_mAR50_25 : 86.67%\n",
      "best_mFS50_25 : 54.20%\n",
      "--------00--------\n",
      "best_mAP50_00 : 30.64%\n",
      "best_mAR50_00 : 100.00%\n",
      "best_mFS50_00 : 46.23%\n"
     ]
    }
   ],
   "source": [
    "for metric_info in metric_info_list:\n",
    "    print('--------{}--------'.format(metric_info))\n",
    "    data = torch.load('model_best_mAP50_' + metric_info + '.pth', 'cpu')\n",
    "    print('best_mAP50_{} :'.format(metric_info), '{:.2f}%'.format(data['best_mAP50_' + metric_info]))\n",
    "    \n",
    "    data = torch.load('model_best_mAR50_' + metric_info + '.pth', 'cpu')\n",
    "    print('best_mAR50_{} :'.format(metric_info), '{:.2f}%'.format(data['best_mAR50_' + metric_info]))\n",
    "    \n",
    "    data = torch.load('model_best_mFS50_' + metric_info + '.pth', 'cpu')\n",
    "    print('best_mFS50_{} :'.format(metric_info), '{:.2f}%'.format(data['best_mFS50_' + metric_info]))"
   ]
  },
  {
   "cell_type": "code",
   "execution_count": null,
   "id": "e2630ced-4078-45d0-8c24-2c9eef3cfe30",
   "metadata": {},
   "outputs": [],
   "source": []
  },
  {
   "cell_type": "code",
   "execution_count": null,
   "id": "fbf1301f-a91c-4c3a-a3a1-7c0f39438116",
   "metadata": {},
   "outputs": [],
   "source": []
  },
  {
   "cell_type": "code",
   "execution_count": null,
   "id": "4c35cbe2-808a-4e6d-8f06-001d79ae256b",
   "metadata": {},
   "outputs": [],
   "source": []
  }
 ],
 "metadata": {
  "kernelspec": {
   "display_name": "qs",
   "language": "python",
   "name": "qs"
  },
  "language_info": {
   "codemirror_mode": {
    "name": "ipython",
    "version": 3
   },
   "file_extension": ".py",
   "mimetype": "text/x-python",
   "name": "python",
   "nbconvert_exporter": "python",
   "pygments_lexer": "ipython3",
   "version": "3.6.10"
  }
 },
 "nbformat": 4,
 "nbformat_minor": 5
}

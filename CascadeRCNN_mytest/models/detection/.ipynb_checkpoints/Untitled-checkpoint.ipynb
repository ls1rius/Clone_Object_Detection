{
 "cells": [
  {
   "cell_type": "code",
   "execution_count": 1,
   "id": "e90048ce-480a-48de-8e65-37465d7bfda2",
   "metadata": {},
   "outputs": [],
   "source": [
    "import torch\n",
    "import numpy as np"
   ]
  },
  {
   "cell_type": "code",
   "execution_count": 4,
   "id": "be8581e7-b2ea-4a6f-aa8b-3123a027913c",
   "metadata": {},
   "outputs": [],
   "source": [
    "matched_idxs = torch.Tensor([np.random.randint(-10, 10) for i in range(10)])"
   ]
  },
  {
   "cell_type": "code",
   "execution_count": 5,
   "id": "c7b516f0-b96e-4833-8883-a94eedad24cd",
   "metadata": {},
   "outputs": [
    {
     "data": {
      "text/plain": [
       "tensor([0., 0., 0., 2., 0., 8., 4., 0., 0., 0.])"
      ]
     },
     "execution_count": 5,
     "metadata": {},
     "output_type": "execute_result"
    }
   ],
   "source": [
    "matched_idxs.clamp(min=0)"
   ]
  },
  {
   "cell_type": "code",
   "execution_count": 6,
   "id": "63725cb8-2473-441f-a6b1-7902903adbd5",
   "metadata": {},
   "outputs": [
    {
     "data": {
      "text/plain": [
       "tensor([-9., -8., -6.,  2., -9.,  8.,  4., -9., -7., -4.])"
      ]
     },
     "execution_count": 6,
     "metadata": {},
     "output_type": "execute_result"
    }
   ],
   "source": [
    "matched_idxs"
   ]
  },
  {
   "cell_type": "code",
   "execution_count": 7,
   "id": "a7273fae-584b-4ba6-acd9-ed639f4fb6c9",
   "metadata": {},
   "outputs": [
    {
     "data": {
      "text/plain": [
       "torch.return_types.max(\n",
       "values=tensor(8.),\n",
       "indices=tensor(5))"
      ]
     },
     "execution_count": 7,
     "metadata": {},
     "output_type": "execute_result"
    }
   ],
   "source": [
    "matched_idxs.max(dim=0)"
   ]
  },
  {
   "cell_type": "code",
   "execution_count": null,
   "id": "2635b364-1bdb-410d-9506-9b6058da53ad",
   "metadata": {},
   "outputs": [],
   "source": []
  },
  {
   "cell_type": "code",
   "execution_count": null,
   "id": "b76feded-85a6-48f4-bf2a-ab8021961ba6",
   "metadata": {},
   "outputs": [],
   "source": []
  },
  {
   "cell_type": "code",
   "execution_count": null,
   "id": "96b4d587-8f66-4025-a1c2-a3bd9c445c3a",
   "metadata": {},
   "outputs": [],
   "source": []
  },
  {
   "cell_type": "code",
   "execution_count": 1,
   "id": "6e93cc5f-c499-46ab-9fae-e60e84b6d4e4",
   "metadata": {},
   "outputs": [],
   "source": [
    "losses = {}"
   ]
  },
  {
   "cell_type": "code",
   "execution_count": 4,
   "id": "de12d37a-c18d-4c03-8b51-1cbd7fd0a64b",
   "metadata": {},
   "outputs": [],
   "source": [
    "losses.update({\"456\": 1})"
   ]
  },
  {
   "cell_type": "code",
   "execution_count": 5,
   "id": "6d6ff6e9-5076-4972-ba7d-505bab2bb144",
   "metadata": {},
   "outputs": [
    {
     "data": {
      "text/plain": [
       "{'123': 1, '456': 1}"
      ]
     },
     "execution_count": 5,
     "metadata": {},
     "output_type": "execute_result"
    }
   ],
   "source": [
    "losses"
   ]
  },
  {
   "cell_type": "code",
   "execution_count": null,
   "id": "08b8c3ed-ace7-4cdb-8f70-b644506a91cb",
   "metadata": {},
   "outputs": [],
   "source": []
  }
 ],
 "metadata": {
  "kernelspec": {
   "display_name": "vod",
   "language": "python",
   "name": "vod"
  },
  "language_info": {
   "codemirror_mode": {
    "name": "ipython",
    "version": 3
   },
   "file_extension": ".py",
   "mimetype": "text/x-python",
   "name": "python",
   "nbconvert_exporter": "python",
   "pygments_lexer": "ipython3",
   "version": "3.6.10"
  }
 },
 "nbformat": 4,
 "nbformat_minor": 5
}

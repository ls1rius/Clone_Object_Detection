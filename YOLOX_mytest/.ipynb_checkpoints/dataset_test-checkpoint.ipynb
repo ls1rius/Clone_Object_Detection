{
 "cells": [
  {
   "cell_type": "code",
   "execution_count": null,
   "id": "c94847dc-2794-433a-bd39-909be71c9060",
   "metadata": {},
   "outputs": [],
   "source": [
    "from yolox.data import (\n",
    "CloneDataSet, \n",
    "MosaicDetection, \n",
    "TrainTransform, \n",
    "InfiniteSampler, \n",
    "YoloBatchSampler, \n",
    "worker_init_reset_seed\n",
    ")\n",
    "# from torch.utils.data.dataloader import DataLoader\n",
    "from yolox.data import DataLoader"
   ]
  },
  {
   "cell_type": "code",
   "execution_count": null,
   "id": "863ab192-b457-4b89-b6cc-50c14f206414",
   "metadata": {},
   "outputs": [],
   "source": [
    "dataset = CloneDataSet(\n",
    "    data_dir='../data',\n",
    "    json_file='train.csv',\n",
    "    img_size=(640, 640),\n",
    "    preproc=None,\n",
    "    cache=False,\n",
    ")"
   ]
  },
  {
   "cell_type": "code",
   "execution_count": null,
   "id": "80dc9fc1-dabc-4e62-9771-7b52af7ab5c7",
   "metadata": {},
   "outputs": [],
   "source": [
    "dataset = MosaicDetection(\n",
    "    dataset,\n",
    "    mosaic=True,\n",
    "    img_size=(640, 640),\n",
    "    preproc=TrainTransform(\n",
    "                max_labels=120,\n",
    "                flip_prob=0.5,\n",
    "                hsv_prob=1.0),\n",
    "    degrees=10.0,\n",
    "    translate=0.1,\n",
    "    mosaic_scale=(0.1, 2),\n",
    "    mixup_scale=(0.5, 1.5),\n",
    "    shear=2.0,\n",
    "    perspective=0.0,\n",
    "    enable_mixup=True,\n",
    "    mosaic_prob=1.0,\n",
    "    mixup_prob=1.0,\n",
    ")"
   ]
  },
  {
   "cell_type": "code",
   "execution_count": null,
   "id": "b37f3f85-7a52-4ecb-a492-24caa5d05092",
   "metadata": {},
   "outputs": [],
   "source": [
    "sampler = InfiniteSampler(len(dataset), seed=0)\n",
    "\n",
    "batch_sampler = YoloBatchSampler(\n",
    "    sampler=sampler,\n",
    "    batch_size=16,\n",
    "    drop_last=False,\n",
    "    mosaic=True,\n",
    ")\n",
    "\n",
    "dataloader_kwargs = {\"num_workers\": 4, \"pin_memory\": True}\n",
    "dataloader_kwargs[\"batch_sampler\"] = batch_sampler\n",
    "\n",
    "# Make sure each process has different random seed, especially for 'fork' method.\n",
    "# Check https://github.com/pytorch/pytorch/issues/63311 for more details.\n",
    "dataloader_kwargs[\"worker_init_fn\"] = worker_init_reset_seed\n",
    "\n",
    "train_loader = DataLoader(dataset, **dataloader_kwargs)"
   ]
  },
  {
   "cell_type": "code",
   "execution_count": null,
   "id": "c943b1a1-8968-4ac7-95ce-58ac0111aaf5",
   "metadata": {},
   "outputs": [],
   "source": []
  },
  {
   "cell_type": "code",
   "execution_count": null,
   "id": "cd1333b9-7bcd-4b09-81ad-67902e451fce",
   "metadata": {},
   "outputs": [],
   "source": [
    "# train_loader = DataLoader(dataset, batch_size=4)"
   ]
  },
  {
   "cell_type": "code",
   "execution_count": null,
   "id": "ec497b96-7a0b-441f-9406-629dc10aacca",
   "metadata": {},
   "outputs": [],
   "source": [
    "# loader = iter(train_loader)"
   ]
  },
  {
   "cell_type": "code",
   "execution_count": null,
   "id": "5623d3d2-7183-44ff-923b-c1b7ef88d04e",
   "metadata": {},
   "outputs": [],
   "source": [
    "# next(loader)"
   ]
  },
  {
   "cell_type": "code",
   "execution_count": null,
   "id": "b65d43fa-bc45-4ab7-b361-1c5e89dbd533",
   "metadata": {},
   "outputs": [],
   "source": []
  },
  {
   "cell_type": "code",
   "execution_count": null,
   "id": "480f2f56-6d56-437f-a27e-9e429748a52b",
   "metadata": {},
   "outputs": [],
   "source": [
    "# data[1].shape"
   ]
  },
  {
   "cell_type": "code",
   "execution_count": null,
   "id": "341a7d0f-7367-4e97-bd4c-73f74d3a69ce",
   "metadata": {},
   "outputs": [],
   "source": [
    "for idx, data in enumerate(train_loader):\n",
    "    print(data[1].shape)\n"
   ]
  },
  {
   "cell_type": "code",
   "execution_count": null,
   "id": "6acddb28-83ff-4a0f-8d35-14b4a592b51c",
   "metadata": {},
   "outputs": [],
   "source": []
  },
  {
   "cell_type": "code",
   "execution_count": null,
   "id": "85f52b7b-03cf-4ca8-a323-0f8cc60c8c6d",
   "metadata": {},
   "outputs": [],
   "source": []
  },
  {
   "cell_type": "code",
   "execution_count": null,
   "id": "20aea0c5-8ae3-4033-8318-8850aa0ee583",
   "metadata": {},
   "outputs": [],
   "source": []
  }
 ],
 "metadata": {
  "kernelspec": {
   "display_name": "vod",
   "language": "python",
   "name": "vod"
  },
  "language_info": {
   "codemirror_mode": {
    "name": "ipython",
    "version": 3
   },
   "file_extension": ".py",
   "mimetype": "text/x-python",
   "name": "python",
   "nbconvert_exporter": "python",
   "pygments_lexer": "ipython3",
   "version": "3.6.10"
  }
 },
 "nbformat": 4,
 "nbformat_minor": 5
}

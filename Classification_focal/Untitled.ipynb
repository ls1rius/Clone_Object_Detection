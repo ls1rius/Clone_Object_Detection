{
 "cells": [
  {
   "cell_type": "code",
   "execution_count": 1,
   "id": "81633cd2-9c5e-4579-9bbe-382242ae982b",
   "metadata": {},
   "outputs": [],
   "source": [
    "import torch"
   ]
  },
  {
   "cell_type": "code",
   "execution_count": null,
   "id": "68ea03b7-9b2b-41e5-92af-ffc4e1788342",
   "metadata": {},
   "outputs": [],
   "source": [
    "data = torch.load('model_best_acc.pth', 'cpu')"
   ]
  },
  {
   "cell_type": "code",
   "execution_count": null,
   "id": "c611e063-adaa-40e1-9c46-17f5995ab497",
   "metadata": {},
   "outputs": [],
   "source": [
    "data['best_acc']"
   ]
  },
  {
   "cell_type": "code",
   "execution_count": null,
   "id": "e8c3e5f3-5c06-4827-88f8-18bf289fa903",
   "metadata": {},
   "outputs": [],
   "source": []
  },
  {
   "cell_type": "code",
   "execution_count": null,
   "id": "25b9bada-92fe-4296-a268-1f905e4c9a44",
   "metadata": {},
   "outputs": [],
   "source": []
  }
 ],
 "metadata": {
  "kernelspec": {
   "display_name": "vod",
   "language": "python",
   "name": "vod"
  },
  "language_info": {
   "codemirror_mode": {
    "name": "ipython",
    "version": 3
   },
   "file_extension": ".py",
   "mimetype": "text/x-python",
   "name": "python",
   "nbconvert_exporter": "python",
   "pygments_lexer": "ipython3",
   "version": "3.6.10"
  }
 },
 "nbformat": 4,
 "nbformat_minor": 5
}

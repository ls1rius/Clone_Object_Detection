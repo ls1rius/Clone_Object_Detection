{
 "cells": [
  {
   "cell_type": "code",
   "execution_count": 1,
   "id": "1795cb4f-7140-4b1a-946d-9247eb78a924",
   "metadata": {},
   "outputs": [],
   "source": [
    "import pandas as pd\n",
    "import cv2\n",
    "import matplotlib.pyplot as plt\n",
    "import string\n",
    "import numpy as np"
   ]
  },
  {
   "cell_type": "code",
   "execution_count": 2,
   "id": "dd219170-36bb-48ba-a84e-5cb5e7372bec",
   "metadata": {},
   "outputs": [],
   "source": [
    "CLONE_CLASSES = ['__background__', 'holoclone', 'meroclone', 'paraclone']"
   ]
  },
  {
   "cell_type": "code",
   "execution_count": 3,
   "id": "7567cbd3-5271-4834-8e9a-c152b6836a58",
   "metadata": {},
   "outputs": [],
   "source": [
    "df_dt = pd.read_csv('./test_res.csv')\n",
    "df_dt['bbox_idx_dt'] = df_dt.index\n",
    "df_dt['label_dt'] = df_dt['label_dt'].map(lambda x: CLONE_CLASSES[x])"
   ]
  },
  {
   "cell_type": "code",
   "execution_count": 4,
   "id": "9cfce908-fe70-46d4-9dac-502ec86cc6d6",
   "metadata": {},
   "outputs": [],
   "source": [
    "df_dt = df_dt[df_dt['scores']>0.95]"
   ]
  },
  {
   "cell_type": "code",
   "execution_count": 5,
   "id": "06e9851a-d270-4c50-a1ea-a675c3a068b7",
   "metadata": {},
   "outputs": [],
   "source": [
    "df_gt = pd.read_csv('../data/test_day6.csv')\n",
    "df_gt['x1_gt'] = df_gt['x1']\n",
    "df_gt['y1_gt'] = df_gt['y1']\n",
    "df_gt['x2_gt'] = df_gt['x2']\n",
    "df_gt['y2_gt'] = df_gt['y2']\n",
    "df_gt['label_gt'] = df_gt['label'].map(lambda x: x.strip(string.digits))\n",
    "df_gt['bbox_idx_gt'] = df_gt.index\n",
    "# size = df_gt['size'].tolist()[0]"
   ]
  },
  {
   "cell_type": "code",
   "execution_count": null,
   "id": "fdcc8898-09a9-4f8c-84ea-f233f82317d6",
   "metadata": {},
   "outputs": [],
   "source": []
  },
  {
   "cell_type": "code",
   "execution_count": 6,
   "id": "ef0290a0-42b3-4330-8e9d-cb767f0e9eed",
   "metadata": {},
   "outputs": [],
   "source": [
    "# df_dt['x1_dt'] = (df_dt['x1_dt'] * (size / df_dt['resize']))\n",
    "# df_dt['y1_dt'] = (df_dt['y1_dt'] * (size / df_dt['resize']))\n",
    "# df_dt['x2_dt'] = (df_dt['x2_dt'] * (size / df_dt['resize']))\n",
    "# df_dt['y2_dt'] = (df_dt['y2_dt'] * (size / df_dt['resize']))"
   ]
  },
  {
   "cell_type": "code",
   "execution_count": null,
   "id": "3a067d77-18b6-4aac-b50f-467d7597d8cd",
   "metadata": {},
   "outputs": [],
   "source": []
  },
  {
   "cell_type": "code",
   "execution_count": 7,
   "id": "96511d57-ecb1-4390-8f2a-9b370faabb6d",
   "metadata": {},
   "outputs": [
    {
     "data": {
      "text/plain": [
       "(499, 188, 481, 0.7263464337594419)"
      ]
     },
     "execution_count": 7,
     "metadata": {},
     "output_type": "execute_result"
    }
   ],
   "source": [
    "from data.utils import calc_mAP, get_df_iou\n",
    "calc_mAP(df_dt, df_gt)"
   ]
  },
  {
   "cell_type": "code",
   "execution_count": 8,
   "id": "b82dc121-f934-4543-9baf-3c08f941e688",
   "metadata": {},
   "outputs": [],
   "source": [
    "# df_dt"
   ]
  },
  {
   "cell_type": "code",
   "execution_count": 9,
   "id": "51e1de12-91c1-42f6-adfb-265cadc0d38f",
   "metadata": {},
   "outputs": [],
   "source": [
    "# df_gt"
   ]
  },
  {
   "cell_type": "code",
   "execution_count": null,
   "id": "c3a6325e-c3ea-4c7d-8cf5-fbde22cc88af",
   "metadata": {},
   "outputs": [],
   "source": []
  },
  {
   "cell_type": "code",
   "execution_count": 10,
   "id": "386321b3-06e1-4a48-ae21-7d2a1ce921ee",
   "metadata": {},
   "outputs": [
    {
     "data": {
      "text/html": [
       "<div>\n",
       "<style scoped>\n",
       "    .dataframe tbody tr th:only-of-type {\n",
       "        vertical-align: middle;\n",
       "    }\n",
       "\n",
       "    .dataframe tbody tr th {\n",
       "        vertical-align: top;\n",
       "    }\n",
       "\n",
       "    .dataframe thead th {\n",
       "        text-align: right;\n",
       "    }\n",
       "</style>\n",
       "<table border=\"1\" class=\"dataframe\">\n",
       "  <thead>\n",
       "    <tr style=\"text-align: right;\">\n",
       "      <th></th>\n",
       "      <th>day</th>\n",
       "      <th>label</th>\n",
       "      <th>size</th>\n",
       "      <th>width</th>\n",
       "      <th>height</th>\n",
       "      <th>filename</th>\n",
       "      <th>filename_gfp</th>\n",
       "      <th>filename_ph</th>\n",
       "      <th>x1</th>\n",
       "      <th>y1</th>\n",
       "      <th>...</th>\n",
       "      <th>clip_y2</th>\n",
       "      <th>batch</th>\n",
       "      <th>bbox_idx</th>\n",
       "      <th>image_id</th>\n",
       "      <th>x1_gt</th>\n",
       "      <th>y1_gt</th>\n",
       "      <th>x2_gt</th>\n",
       "      <th>y2_gt</th>\n",
       "      <th>label_gt</th>\n",
       "      <th>bbox_idx_gt</th>\n",
       "    </tr>\n",
       "  </thead>\n",
       "  <tbody>\n",
       "    <tr>\n",
       "      <th>429</th>\n",
       "      <td>6</td>\n",
       "      <td>holoclone7</td>\n",
       "      <td>1344</td>\n",
       "      <td>105</td>\n",
       "      <td>117</td>\n",
       "      <td>1635560227_706204.png</td>\n",
       "      <td>1635560227_706204_gfp.png</td>\n",
       "      <td>1635560227_706204_ph.png</td>\n",
       "      <td>1152</td>\n",
       "      <td>750</td>\n",
       "      <td>...</td>\n",
       "      <td>1692</td>\n",
       "      <td>2</td>\n",
       "      <td>429</td>\n",
       "      <td>206</td>\n",
       "      <td>1152</td>\n",
       "      <td>750</td>\n",
       "      <td>1257</td>\n",
       "      <td>867</td>\n",
       "      <td>holoclone</td>\n",
       "      <td>429</td>\n",
       "    </tr>\n",
       "    <tr>\n",
       "      <th>430</th>\n",
       "      <td>6</td>\n",
       "      <td>paraclone14</td>\n",
       "      <td>1344</td>\n",
       "      <td>45</td>\n",
       "      <td>61</td>\n",
       "      <td>1635560227_706204.png</td>\n",
       "      <td>1635560227_706204_gfp.png</td>\n",
       "      <td>1635560227_706204_ph.png</td>\n",
       "      <td>100</td>\n",
       "      <td>1202</td>\n",
       "      <td>...</td>\n",
       "      <td>1692</td>\n",
       "      <td>2</td>\n",
       "      <td>430</td>\n",
       "      <td>206</td>\n",
       "      <td>100</td>\n",
       "      <td>1202</td>\n",
       "      <td>145</td>\n",
       "      <td>1263</td>\n",
       "      <td>paraclone</td>\n",
       "      <td>430</td>\n",
       "    </tr>\n",
       "    <tr>\n",
       "      <th>431</th>\n",
       "      <td>6</td>\n",
       "      <td>paraclone15</td>\n",
       "      <td>1344</td>\n",
       "      <td>46</td>\n",
       "      <td>50</td>\n",
       "      <td>1635560227_706204.png</td>\n",
       "      <td>1635560227_706204_gfp.png</td>\n",
       "      <td>1635560227_706204_ph.png</td>\n",
       "      <td>989</td>\n",
       "      <td>416</td>\n",
       "      <td>...</td>\n",
       "      <td>1692</td>\n",
       "      <td>2</td>\n",
       "      <td>431</td>\n",
       "      <td>206</td>\n",
       "      <td>989</td>\n",
       "      <td>416</td>\n",
       "      <td>1035</td>\n",
       "      <td>466</td>\n",
       "      <td>paraclone</td>\n",
       "      <td>431</td>\n",
       "    </tr>\n",
       "    <tr>\n",
       "      <th>432</th>\n",
       "      <td>6</td>\n",
       "      <td>paraclone20</td>\n",
       "      <td>1344</td>\n",
       "      <td>58</td>\n",
       "      <td>49</td>\n",
       "      <td>1635560227_706204.png</td>\n",
       "      <td>1635560227_706204_gfp.png</td>\n",
       "      <td>1635560227_706204_ph.png</td>\n",
       "      <td>69</td>\n",
       "      <td>778</td>\n",
       "      <td>...</td>\n",
       "      <td>1692</td>\n",
       "      <td>2</td>\n",
       "      <td>432</td>\n",
       "      <td>206</td>\n",
       "      <td>69</td>\n",
       "      <td>778</td>\n",
       "      <td>127</td>\n",
       "      <td>827</td>\n",
       "      <td>paraclone</td>\n",
       "      <td>432</td>\n",
       "    </tr>\n",
       "  </tbody>\n",
       "</table>\n",
       "<p>4 rows × 29 columns</p>\n",
       "</div>"
      ],
      "text/plain": [
       "     day        label  size  width  height               filename  \\\n",
       "429    6   holoclone7  1344    105     117  1635560227_706204.png   \n",
       "430    6  paraclone14  1344     45      61  1635560227_706204.png   \n",
       "431    6  paraclone15  1344     46      50  1635560227_706204.png   \n",
       "432    6  paraclone20  1344     58      49  1635560227_706204.png   \n",
       "\n",
       "                  filename_gfp               filename_ph    x1    y1  ...  \\\n",
       "429  1635560227_706204_gfp.png  1635560227_706204_ph.png  1152   750  ...   \n",
       "430  1635560227_706204_gfp.png  1635560227_706204_ph.png   100  1202  ...   \n",
       "431  1635560227_706204_gfp.png  1635560227_706204_ph.png   989   416  ...   \n",
       "432  1635560227_706204_gfp.png  1635560227_706204_ph.png    69   778  ...   \n",
       "\n",
       "     clip_y2  batch  bbox_idx  image_id  x1_gt  y1_gt  x2_gt  y2_gt  \\\n",
       "429     1692      2       429       206   1152    750   1257    867   \n",
       "430     1692      2       430       206    100   1202    145   1263   \n",
       "431     1692      2       431       206    989    416   1035    466   \n",
       "432     1692      2       432       206     69    778    127    827   \n",
       "\n",
       "      label_gt  bbox_idx_gt  \n",
       "429  holoclone          429  \n",
       "430  paraclone          430  \n",
       "431  paraclone          431  \n",
       "432  paraclone          432  \n",
       "\n",
       "[4 rows x 29 columns]"
      ]
     },
     "execution_count": 10,
     "metadata": {},
     "output_type": "execute_result"
    }
   ],
   "source": [
    "image_id = df_gt.sample(1)['image_id'].tolist()[0]\n",
    "df_gt_sample = df_gt[df_gt['image_id']==image_id]\n",
    "df_gt_sample"
   ]
  },
  {
   "cell_type": "code",
   "execution_count": null,
   "id": "70ed2e64-24f3-4242-8774-5e9d44e2abc8",
   "metadata": {},
   "outputs": [],
   "source": []
  },
  {
   "cell_type": "code",
   "execution_count": 11,
   "id": "e287e31d-cd2b-4762-a439-54deeba20ca4",
   "metadata": {},
   "outputs": [
    {
     "data": {
      "text/html": [
       "<div>\n",
       "<style scoped>\n",
       "    .dataframe tbody tr th:only-of-type {\n",
       "        vertical-align: middle;\n",
       "    }\n",
       "\n",
       "    .dataframe tbody tr th {\n",
       "        vertical-align: top;\n",
       "    }\n",
       "\n",
       "    .dataframe thead th {\n",
       "        text-align: right;\n",
       "    }\n",
       "</style>\n",
       "<table border=\"1\" class=\"dataframe\">\n",
       "  <thead>\n",
       "    <tr style=\"text-align: right;\">\n",
       "      <th></th>\n",
       "      <th>x1_dt</th>\n",
       "      <th>y1_dt</th>\n",
       "      <th>x2_dt</th>\n",
       "      <th>y2_dt</th>\n",
       "      <th>label_dt</th>\n",
       "      <th>image_id</th>\n",
       "      <th>resize</th>\n",
       "      <th>scores</th>\n",
       "      <th>bbox_idx_dt</th>\n",
       "    </tr>\n",
       "  </thead>\n",
       "  <tbody>\n",
       "    <tr>\n",
       "      <th>652</th>\n",
       "      <td>985.026733</td>\n",
       "      <td>416.671234</td>\n",
       "      <td>1035.972168</td>\n",
       "      <td>474.204895</td>\n",
       "      <td>paraclone</td>\n",
       "      <td>206</td>\n",
       "      <td>896</td>\n",
       "      <td>0.999889</td>\n",
       "      <td>652</td>\n",
       "    </tr>\n",
       "    <tr>\n",
       "      <th>653</th>\n",
       "      <td>65.216370</td>\n",
       "      <td>774.810425</td>\n",
       "      <td>124.494164</td>\n",
       "      <td>828.561035</td>\n",
       "      <td>paraclone</td>\n",
       "      <td>206</td>\n",
       "      <td>896</td>\n",
       "      <td>0.988078</td>\n",
       "      <td>653</td>\n",
       "    </tr>\n",
       "    <tr>\n",
       "      <th>654</th>\n",
       "      <td>1149.872437</td>\n",
       "      <td>752.244995</td>\n",
       "      <td>1256.878662</td>\n",
       "      <td>864.128906</td>\n",
       "      <td>paraclone</td>\n",
       "      <td>206</td>\n",
       "      <td>896</td>\n",
       "      <td>0.969210</td>\n",
       "      <td>654</td>\n",
       "    </tr>\n",
       "  </tbody>\n",
       "</table>\n",
       "</div>"
      ],
      "text/plain": [
       "           x1_dt       y1_dt        x2_dt       y2_dt   label_dt  image_id  \\\n",
       "652   985.026733  416.671234  1035.972168  474.204895  paraclone       206   \n",
       "653    65.216370  774.810425   124.494164  828.561035  paraclone       206   \n",
       "654  1149.872437  752.244995  1256.878662  864.128906  paraclone       206   \n",
       "\n",
       "     resize    scores  bbox_idx_dt  \n",
       "652     896  0.999889          652  \n",
       "653     896  0.988078          653  \n",
       "654     896  0.969210          654  "
      ]
     },
     "execution_count": 11,
     "metadata": {},
     "output_type": "execute_result"
    }
   ],
   "source": [
    "df_dt_sample = df_dt[df_dt['image_id']==image_id]\n",
    "df_dt_sample"
   ]
  },
  {
   "cell_type": "code",
   "execution_count": null,
   "id": "591a913d-98b3-4a0e-84a1-42108762496c",
   "metadata": {},
   "outputs": [],
   "source": []
  },
  {
   "cell_type": "code",
   "execution_count": 12,
   "id": "a8c4caef-3018-4bbe-817f-fd289a3f573e",
   "metadata": {},
   "outputs": [],
   "source": [
    "img = cv2.imread('../data/img_clip_all/' + df_gt_sample['filename_gfp'].tolist()[0])\n",
    "img = cv2.cvtColor(img, cv2.COLOR_BGR2RGB)"
   ]
  },
  {
   "cell_type": "code",
   "execution_count": 13,
   "id": "504189eb-be34-4811-a605-a85b2a59c7ab",
   "metadata": {},
   "outputs": [],
   "source": [
    "for i in range(len(df_gt_sample)):\n",
    "    img = cv2.rectangle(img,\n",
    "                        (int(df_gt_sample.iloc[i]['x1_gt']), int(df_gt_sample.iloc[i]['y1_gt'])),\n",
    "                        (int(df_gt_sample.iloc[i]['x2_gt']), int(df_gt_sample.iloc[i]['y2_gt'])),\n",
    "                        (255,0,0),\n",
    "                        2)"
   ]
  },
  {
   "cell_type": "code",
   "execution_count": 14,
   "id": "c5e3d469-8061-49cf-80f6-213191a0a3b7",
   "metadata": {},
   "outputs": [],
   "source": [
    "for i in range(len(df_dt_sample)):\n",
    "    img = cv2.rectangle(img,\n",
    "                        (int(df_dt_sample.iloc[i]['x1_dt']), int(df_dt_sample.iloc[i]['y1_dt'])),\n",
    "                        (int(df_dt_sample.iloc[i]['x2_dt']), int(df_dt_sample.iloc[i]['y2_dt'])),\n",
    "                        (0,255,255),\n",
    "                        2)"
   ]
  },
  {
   "cell_type": "code",
   "execution_count": 15,
   "id": "d77b743d-3308-4924-8eda-79a3cdfe115d",
   "metadata": {},
   "outputs": [
    {
     "data": {
      "text/plain": [
       "<matplotlib.image.AxesImage at 0x7f5f8a40c748>"
      ]
     },
     "execution_count": 15,
     "metadata": {},
     "output_type": "execute_result"
    },
    {
     "data": {
      "image/png": "[encoded data removed]",
      "text/plain": [
       "<Figure size 1344x1344 with 1 Axes>"
      ]
     },
     "metadata": {
      "needs_background": "light"
     },
     "output_type": "display_data"
    }
   ],
   "source": [
    "width, height = img.shape[1], img.shape[0]\n",
    "img = np.ascontiguousarray(img)\n",
    "fig = plt.figure(frameon=False)\n",
    "canvas = fig.canvas\n",
    "dpi = fig.get_dpi()\n",
    "fig.set_size_inches((width + 1e-8) / dpi, (height + 1e-8) / dpi)\n",
    "plt.subplots_adjust(left=0, right=1, bottom=0, top=1)\n",
    "ax = plt.gca()\n",
    "ax.axis('off')\n",
    "plt.imshow(img)"
   ]
  },
  {
   "cell_type": "code",
   "execution_count": null,
   "id": "dbcb8249-450c-4631-9f8c-977ceb722feb",
   "metadata": {},
   "outputs": [],
   "source": []
  },
  {
   "cell_type": "code",
   "execution_count": null,
   "id": "e95d3035-5ad4-4cc2-b013-ba6f081b13a3",
   "metadata": {},
   "outputs": [],
   "source": []
  },
  {
   "cell_type": "code",
   "execution_count": null,
   "id": "41b9cfb4-4011-49a4-9e06-4e5cb75e4cbc",
   "metadata": {},
   "outputs": [],
   "source": []
  },
  {
   "cell_type": "code",
   "execution_count": null,
   "id": "79e748bd-3a94-428e-b781-a611fe4c7710",
   "metadata": {},
   "outputs": [],
   "source": []
  },
  {
   "cell_type": "code",
   "execution_count": null,
   "id": "196a6dfe-147e-4e76-b0e2-089387bffd07",
   "metadata": {},
   "outputs": [],
   "source": []
  },
  {
   "cell_type": "code",
   "execution_count": null,
   "id": "eb382c56-0155-45dc-aadd-158799d2eb5b",
   "metadata": {},
   "outputs": [],
   "source": []
  },
  {
   "cell_type": "code",
   "execution_count": 16,
   "id": "9919f14f-6aa1-4909-a613-ece30a7d4a67",
   "metadata": {},
   "outputs": [],
   "source": [
    "df = pd.merge(df_dt, df_gt, on='image_id')"
   ]
  },
  {
   "cell_type": "code",
   "execution_count": 17,
   "id": "c2e7a08a-c6f8-4197-94d1-86bd571745db",
   "metadata": {},
   "outputs": [],
   "source": [
    "for image_id, df_cur in df.groupby('image_id'):\n",
    "    df_cur['iou'] = df_cur.apply(lambda x: get_df_iou(x), axis=1)\n",
    "    df_cur = df_cur[df_cur['iou'] > 0.5]\n",
    "    if len(df_cur)>0:\n",
    "        break"
   ]
  },
  {
   "cell_type": "code",
   "execution_count": 18,
   "id": "039c48eb-a217-4784-914a-ae373afdd1bc",
   "metadata": {},
   "outputs": [
    {
     "data": {
      "text/html": [
       "<div>\n",
       "<style scoped>\n",
       "    .dataframe tbody tr th:only-of-type {\n",
       "        vertical-align: middle;\n",
       "    }\n",
       "\n",
       "    .dataframe tbody tr th {\n",
       "        vertical-align: top;\n",
       "    }\n",
       "\n",
       "    .dataframe thead th {\n",
       "        text-align: right;\n",
       "    }\n",
       "</style>\n",
       "<table border=\"1\" class=\"dataframe\">\n",
       "  <thead>\n",
       "    <tr style=\"text-align: right;\">\n",
       "      <th></th>\n",
       "      <th>x1_dt</th>\n",
       "      <th>y1_dt</th>\n",
       "      <th>x2_dt</th>\n",
       "      <th>y2_dt</th>\n",
       "      <th>label_dt</th>\n",
       "      <th>image_id</th>\n",
       "      <th>resize</th>\n",
       "      <th>scores</th>\n",
       "      <th>bbox_idx_dt</th>\n",
       "      <th>day</th>\n",
       "      <th>...</th>\n",
       "      <th>clip_y2</th>\n",
       "      <th>batch</th>\n",
       "      <th>bbox_idx</th>\n",
       "      <th>x1_gt</th>\n",
       "      <th>y1_gt</th>\n",
       "      <th>x2_gt</th>\n",
       "      <th>y2_gt</th>\n",
       "      <th>label_gt</th>\n",
       "      <th>bbox_idx_gt</th>\n",
       "      <th>iou</th>\n",
       "    </tr>\n",
       "  </thead>\n",
       "  <tbody>\n",
       "    <tr>\n",
       "      <th>0</th>\n",
       "      <td>793.588867</td>\n",
       "      <td>1193.334595</td>\n",
       "      <td>875.481689</td>\n",
       "      <td>1272.866211</td>\n",
       "      <td>meroclone</td>\n",
       "      <td>0</td>\n",
       "      <td>896</td>\n",
       "      <td>0.998835</td>\n",
       "      <td>0</td>\n",
       "      <td>6</td>\n",
       "      <td>...</td>\n",
       "      <td>2885</td>\n",
       "      <td>2</td>\n",
       "      <td>0</td>\n",
       "      <td>793</td>\n",
       "      <td>1193</td>\n",
       "      <td>874</td>\n",
       "      <td>1273</td>\n",
       "      <td>meroclone</td>\n",
       "      <td>0</td>\n",
       "      <td>0.969291</td>\n",
       "    </tr>\n",
       "  </tbody>\n",
       "</table>\n",
       "<p>1 rows × 38 columns</p>\n",
       "</div>"
      ],
      "text/plain": [
       "        x1_dt        y1_dt       x2_dt        y2_dt   label_dt  image_id  \\\n",
       "0  793.588867  1193.334595  875.481689  1272.866211  meroclone         0   \n",
       "\n",
       "   resize    scores  bbox_idx_dt  day  ... clip_y2  batch  bbox_idx  x1_gt  \\\n",
       "0     896  0.998835            0    6  ...    2885      2         0    793   \n",
       "\n",
       "  y1_gt x2_gt y2_gt   label_gt  bbox_idx_gt       iou  \n",
       "0  1193   874  1273  meroclone            0  0.969291  \n",
       "\n",
       "[1 rows x 38 columns]"
      ]
     },
     "execution_count": 18,
     "metadata": {},
     "output_type": "execute_result"
    }
   ],
   "source": [
    "df_cur"
   ]
  },
  {
   "cell_type": "code",
   "execution_count": 19,
   "id": "fe1c22e3-6f88-472d-9cc0-907e3395b829",
   "metadata": {},
   "outputs": [],
   "source": [
    "img = cv2.imread('../data/img_clip_all/' + df_cur['filename_gfp'].tolist()[0])\n",
    "img = cv2.cvtColor(img, cv2.COLOR_BGR2RGB)"
   ]
  },
  {
   "cell_type": "code",
   "execution_count": 20,
   "id": "7301b0ce-15f6-4d2f-b828-46435fd56c53",
   "metadata": {},
   "outputs": [],
   "source": [
    "for i in range(len(df_cur)):\n",
    "    img = cv2.rectangle(img,\n",
    "                        (int(df_cur.iloc[i]['x1_gt']), int(df_cur.iloc[i]['y1_gt'])),\n",
    "                        (int(df_cur.iloc[i]['x2_gt']), int(df_cur.iloc[i]['y2_gt'])),\n",
    "                        (255,0,0),\n",
    "                        10)\n",
    "    img = cv2.rectangle(img,\n",
    "                        (int(df_cur.iloc[i]['x1_dt']), int(df_cur.iloc[i]['y1_dt'])),\n",
    "                        (int(df_cur.iloc[i]['x2_dt']), int(df_cur.iloc[i]['y2_dt'])),\n",
    "                        (0,255,255),\n",
    "                        10)"
   ]
  },
  {
   "cell_type": "code",
   "execution_count": 21,
   "id": "20734c1e-5367-48b5-aa94-b5a288ec44b1",
   "metadata": {},
   "outputs": [
    {
     "data": {
      "text/plain": [
       "<matplotlib.image.AxesImage at 0x7f5f8a3da9e8>"
      ]
     },
     "execution_count": 21,
     "metadata": {},
     "output_type": "execute_result"
    },
    {
     "data": {
      "image/png": "[encoded data removed]",
      "text/plain": [
       "<Figure size 432x288 with 1 Axes>"
      ]
     },
     "metadata": {
      "needs_background": "light"
     },
     "output_type": "display_data"
    }
   ],
   "source": [
    "plt.imshow(img)"
   ]
  },
  {
   "cell_type": "code",
   "execution_count": null,
   "id": "2f97cc18-8786-4834-926f-774d7fbd0e97",
   "metadata": {},
   "outputs": [],
   "source": []
  },
  {
   "cell_type": "code",
   "execution_count": null,
   "id": "d4f6dc71-41f3-40fe-a443-374ab74e8f5b",
   "metadata": {},
   "outputs": [],
   "source": []
  },
  {
   "cell_type": "code",
   "execution_count": null,
   "id": "bd13c5f5-3ec6-4548-bab1-3e21fa2fb893",
   "metadata": {},
   "outputs": [],
   "source": []
  },
  {
   "cell_type": "code",
   "execution_count": null,
   "id": "6c87b527-9ea9-4c92-bd1e-83b598767c40",
   "metadata": {},
   "outputs": [],
   "source": []
  },
  {
   "cell_type": "code",
   "execution_count": null,
   "id": "60fb3f65-0f0a-4048-be2f-d8725ce1c122",
   "metadata": {},
   "outputs": [],
   "source": []
  }
 ],
 "metadata": {
  "kernelspec": {
   "display_name": "qs",
   "language": "python",
   "name": "qs"
  },
  "language_info": {
   "codemirror_mode": {
    "name": "ipython",
    "version": 3
   },
   "file_extension": ".py",
   "mimetype": "text/x-python",
   "name": "python",
   "nbconvert_exporter": "python",
   "pygments_lexer": "ipython3",
   "version": "3.6.10"
  }
 },
 "nbformat": 4,
 "nbformat_minor": 5
}

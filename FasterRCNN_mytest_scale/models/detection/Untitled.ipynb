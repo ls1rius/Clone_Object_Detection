{
 "cells": [
  {
   "cell_type": "code",
   "execution_count": 32,
   "id": "e90048ce-480a-48de-8e65-37465d7bfda2",
   "metadata": {},
   "outputs": [],
   "source": [
    "import torch\n",
    "import numpy as np"
   ]
  },
  {
   "cell_type": "code",
   "execution_count": 33,
   "id": "4bfdb3f9-0e20-45be-8f5f-fcacf60ea6b3",
   "metadata": {},
   "outputs": [
    {
     "data": {
      "text/plain": [
       "2"
      ]
     },
     "execution_count": 33,
     "metadata": {},
     "output_type": "execute_result"
    }
   ],
   "source": [
    "int(torch.empty(1).uniform_(0., float(len([1,2,3,5,6]))).item())"
   ]
  },
  {
   "cell_type": "code",
   "execution_count": 34,
   "id": "1ea4b05d-bbec-43c7-9a54-c05b2d147e31",
   "metadata": {},
   "outputs": [
    {
     "data": {
      "text/plain": [
       "tensor([8.1121])"
      ]
     },
     "execution_count": 34,
     "metadata": {},
     "output_type": "execute_result"
    }
   ],
   "source": [
    "torch.empty(1).uniform_(0, 10)"
   ]
  },
  {
   "cell_type": "code",
   "execution_count": null,
   "id": "b2e9eacd-b842-4193-ab45-842d0823acb1",
   "metadata": {},
   "outputs": [],
   "source": []
  },
  {
   "cell_type": "code",
   "execution_count": 74,
   "id": "3eaf47cf-fe88-448f-9f55-f0ce7c4de96e",
   "metadata": {},
   "outputs": [],
   "source": [
    "shift_x = np.arange(3)*3\n",
    "shift_y = np.arange(4)*4\n"
   ]
  },
  {
   "cell_type": "code",
   "execution_count": 75,
   "id": "ff83174e-ffb4-426e-83a9-9e10d027ad05",
   "metadata": {},
   "outputs": [
    {
     "data": {
      "text/plain": [
       "array([0, 3, 6])"
      ]
     },
     "execution_count": 75,
     "metadata": {},
     "output_type": "execute_result"
    }
   ],
   "source": [
    "shift_x"
   ]
  },
  {
   "cell_type": "code",
   "execution_count": 76,
   "id": "9273c0ce-6fd6-4ed6-b340-332abba112bf",
   "metadata": {},
   "outputs": [
    {
     "data": {
      "text/plain": [
       "array([ 0,  4,  8, 12])"
      ]
     },
     "execution_count": 76,
     "metadata": {},
     "output_type": "execute_result"
    }
   ],
   "source": [
    "shift_y"
   ]
  },
  {
   "cell_type": "code",
   "execution_count": 77,
   "id": "a2bac70c-fe8c-48d3-872c-2687ad6449a8",
   "metadata": {},
   "outputs": [],
   "source": [
    "shift_x, shift_y = torch.meshgrid(torch.Tensor(np.arange(3)*3), torch.Tensor(np.arange(4)*4))"
   ]
  },
  {
   "cell_type": "code",
   "execution_count": 78,
   "id": "8f3cabbc-089c-4a33-8f84-ad913a377646",
   "metadata": {},
   "outputs": [
    {
     "data": {
      "text/plain": [
       "tensor([[0., 0., 0., 0.],\n",
       "        [3., 3., 3., 3.],\n",
       "        [6., 6., 6., 6.]])"
      ]
     },
     "execution_count": 78,
     "metadata": {},
     "output_type": "execute_result"
    }
   ],
   "source": [
    "shift_x"
   ]
  },
  {
   "cell_type": "code",
   "execution_count": 79,
   "id": "e1b0572b-c1ad-4374-a665-a2b692a5aac9",
   "metadata": {},
   "outputs": [
    {
     "data": {
      "text/plain": [
       "tensor([[ 0.,  4.,  8., 12.],\n",
       "        [ 0.,  4.,  8., 12.],\n",
       "        [ 0.,  4.,  8., 12.]])"
      ]
     },
     "execution_count": 79,
     "metadata": {},
     "output_type": "execute_result"
    }
   ],
   "source": [
    "shift_y"
   ]
  },
  {
   "cell_type": "code",
   "execution_count": 80,
   "id": "b807f28f-efc7-4862-9f28-d9b7879a98fc",
   "metadata": {},
   "outputs": [],
   "source": [
    "shift_x = shift_x.reshape(-1)\n",
    "shift_y = shift_y.reshape(-1)"
   ]
  },
  {
   "cell_type": "code",
   "execution_count": 81,
   "id": "b2a10781-97fc-4fce-b291-22b6375e8691",
   "metadata": {},
   "outputs": [
    {
     "data": {
      "text/plain": [
       "tensor([0., 0., 0., 0., 3., 3., 3., 3., 6., 6., 6., 6.])"
      ]
     },
     "execution_count": 81,
     "metadata": {},
     "output_type": "execute_result"
    }
   ],
   "source": [
    "shift_x"
   ]
  },
  {
   "cell_type": "code",
   "execution_count": 82,
   "id": "87d144fb-fc84-4999-9bd6-2125a9fb53b9",
   "metadata": {},
   "outputs": [
    {
     "data": {
      "text/plain": [
       "tensor([ 0.,  4.,  8., 12.,  0.,  4.,  8., 12.,  0.,  4.,  8., 12.])"
      ]
     },
     "execution_count": 82,
     "metadata": {},
     "output_type": "execute_result"
    }
   ],
   "source": [
    "shift_y"
   ]
  },
  {
   "cell_type": "code",
   "execution_count": null,
   "id": "c7b516f0-b96e-4833-8883-a94eedad24cd",
   "metadata": {},
   "outputs": [],
   "source": []
  },
  {
   "cell_type": "code",
   "execution_count": null,
   "id": "63725cb8-2473-441f-a6b1-7902903adbd5",
   "metadata": {},
   "outputs": [],
   "source": []
  },
  {
   "cell_type": "code",
   "execution_count": null,
   "id": "a7273fae-584b-4ba6-acd9-ed639f4fb6c9",
   "metadata": {},
   "outputs": [],
   "source": []
  },
  {
   "cell_type": "code",
   "execution_count": null,
   "id": "2635b364-1bdb-410d-9506-9b6058da53ad",
   "metadata": {},
   "outputs": [],
   "source": []
  },
  {
   "cell_type": "code",
   "execution_count": null,
   "id": "b76feded-85a6-48f4-bf2a-ab8021961ba6",
   "metadata": {},
   "outputs": [],
   "source": []
  },
  {
   "cell_type": "code",
   "execution_count": null,
   "id": "96b4d587-8f66-4025-a1c2-a3bd9c445c3a",
   "metadata": {},
   "outputs": [],
   "source": []
  }
 ],
 "metadata": {
  "kernelspec": {
   "display_name": "vod",
   "language": "python",
   "name": "vod"
  },
  "language_info": {
   "codemirror_mode": {
    "name": "ipython",
    "version": 3
   },
   "file_extension": ".py",
   "mimetype": "text/x-python",
   "name": "python",
   "nbconvert_exporter": "python",
   "pygments_lexer": "ipython3",
   "version": "3.6.10"
  }
 },
 "nbformat": 4,
 "nbformat_minor": 5
}
